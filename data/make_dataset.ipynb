{
 "cells": [
  {
   "cell_type": "code",
   "execution_count": 1,
   "metadata": {},
   "outputs": [],
   "source": [
    "%load_ext autoreload\n",
    "%autoreload 2\n",
    "%matplotlib inline"
   ]
  },
  {
   "cell_type": "code",
   "execution_count": 6,
   "metadata": {},
   "outputs": [],
   "source": [
    "import sys\n",
    "import getpass\n",
    "import numpy as np\n",
    "import seaborn as sns\n",
    "import pandas as pd\n",
    "import matplotlib.pyplot as plt\n",
    "from sklearn.manifold import TSNE\n",
    "from sklearn.datasets import make_classification\n",
    "from sklearn.model_selection import train_test_split\n"
   ]
  },
  {
   "cell_type": "code",
   "execution_count": 7,
   "metadata": {},
   "outputs": [],
   "source": [
    "def scatter(x, labels, title, subtitle=None):\n",
    "    palette = np.array(sns.color_palette(\"hls\", 4))\n",
    "    f = plt.figure(figsize=(8, 8))\n",
    "    ax = plt.subplot(aspect='equal')\n",
    "    sc = ax.scatter(x[:,0], x[:,1], lw=0,alpha = 0.5, s=40, c=palette[labels.astype(np.int)])\n",
    "    plt.xlim(-25, 25)\n",
    "    plt.ylim(-25, 25)\n",
    "    ax.axis('off')\n",
    "    ax.axis('tight')\n",
    "    plt.title(title)"
   ]
  },
  {
   "cell_type": "code",
   "execution_count": 8,
   "metadata": {},
   "outputs": [
    {
     "data": {
      "text/plain": [
       "((200, 10), (200,))"
      ]
     },
     "execution_count": 8,
     "metadata": {},
     "output_type": "execute_result"
    }
   ],
   "source": [
    "X, Y = make_classification(n_samples=200, n_features=10, n_informative=3,\n",
    "                           n_classes=4, n_clusters_per_class=1, random_state=0)\n",
    "\n",
    "X.shape, Y.shape"
   ]
  },
  {
   "cell_type": "code",
   "execution_count": 9,
   "metadata": {},
   "outputs": [
    {
     "name": "stdout",
     "output_type": "stream",
     "text": [
      "(200, 2) (200,)\n"
     ]
    },
    {
     "data": {
      "image/png": "[encoded data removed]",
      "text/plain": [
       "<Figure size 576x576 with 1 Axes>"
      ]
     },
     "metadata": {
      "needs_background": "light"
     },
     "output_type": "display_data"
    }
   ],
   "source": [
    "tsne = TSNE()\n",
    "X_orig = tsne.fit_transform(X)\n",
    "print(X_orig.shape, Y.shape)\n",
    "scatter(X_orig, Y, 'Original')"
   ]
  },
  {
   "cell_type": "code",
   "execution_count": 10,
   "metadata": {},
   "outputs": [],
   "source": [
    "X_train, X_test, y_train, y_test = train_test_split(X, Y, test_size=0.2)"
   ]
  },
  {
   "cell_type": "code",
   "execution_count": 11,
   "metadata": {},
   "outputs": [
    {
     "data": {
      "text/plain": [
       "((160, 10), (160,), (40, 10), (40,))"
      ]
     },
     "execution_count": 11,
     "metadata": {},
     "output_type": "execute_result"
    }
   ],
   "source": [
    "X_train.shape, y_train.shape, X_test.shape, y_test.shape"
   ]
  },
  {
   "cell_type": "code",
   "execution_count": 12,
   "metadata": {},
   "outputs": [],
   "source": [
    "train = pd.concat([\n",
    "    pd.DataFrame(X_train, columns=[f\"feature_{i}\" for i in range(10)]), \n",
    "    pd.DataFrame(y_train, columns=['target'])\n",
    "                 ], axis=1)\n",
    "\n",
    "test = pd.concat([\n",
    "    pd.DataFrame(X_test, columns=[f\"feature_{i}\" for i in range(10)]), \n",
    "    pd.DataFrame(y_test, columns=['target'])\n",
    "                 ], axis=1)"
   ]
  },
  {
   "cell_type": "code",
   "execution_count": 13,
   "metadata": {},
   "outputs": [
    {
     "data": {
      "text/html": [
       "<div>\n",
       "<style scoped>\n",
       "    .dataframe tbody tr th:only-of-type {\n",
       "        vertical-align: middle;\n",
       "    }\n",
       "\n",
       "    .dataframe tbody tr th {\n",
       "        vertical-align: top;\n",
       "    }\n",
       "\n",
       "    .dataframe thead th {\n",
       "        text-align: right;\n",
       "    }\n",
       "</style>\n",
       "<table border=\"1\" class=\"dataframe\">\n",
       "  <thead>\n",
       "    <tr style=\"text-align: right;\">\n",
       "      <th></th>\n",
       "      <th>feature_0</th>\n",
       "      <th>feature_1</th>\n",
       "      <th>feature_2</th>\n",
       "      <th>feature_3</th>\n",
       "      <th>feature_4</th>\n",
       "      <th>feature_5</th>\n",
       "      <th>feature_6</th>\n",
       "      <th>feature_7</th>\n",
       "      <th>feature_8</th>\n",
       "      <th>feature_9</th>\n",
       "      <th>target</th>\n",
       "    </tr>\n",
       "  </thead>\n",
       "  <tbody>\n",
       "    <tr>\n",
       "      <th>0</th>\n",
       "      <td>0.589173</td>\n",
       "      <td>-1.770896</td>\n",
       "      <td>-1.214621</td>\n",
       "      <td>0.397394</td>\n",
       "      <td>1.042208</td>\n",
       "      <td>-0.045084</td>\n",
       "      <td>-0.794652</td>\n",
       "      <td>1.038973</td>\n",
       "      <td>-0.218012</td>\n",
       "      <td>-1.368808</td>\n",
       "      <td>1</td>\n",
       "    </tr>\n",
       "    <tr>\n",
       "      <th>1</th>\n",
       "      <td>0.119697</td>\n",
       "      <td>2.035277</td>\n",
       "      <td>1.595192</td>\n",
       "      <td>-0.465020</td>\n",
       "      <td>0.636339</td>\n",
       "      <td>-0.505013</td>\n",
       "      <td>0.499611</td>\n",
       "      <td>0.497313</td>\n",
       "      <td>0.386101</td>\n",
       "      <td>0.640797</td>\n",
       "      <td>0</td>\n",
       "    </tr>\n",
       "    <tr>\n",
       "      <th>2</th>\n",
       "      <td>0.329686</td>\n",
       "      <td>-2.581175</td>\n",
       "      <td>-1.545053</td>\n",
       "      <td>-0.655998</td>\n",
       "      <td>-1.692722</td>\n",
       "      <td>0.369297</td>\n",
       "      <td>0.825998</td>\n",
       "      <td>0.691713</td>\n",
       "      <td>0.012872</td>\n",
       "      <td>-1.330849</td>\n",
       "      <td>2</td>\n",
       "    </tr>\n",
       "    <tr>\n",
       "      <th>3</th>\n",
       "      <td>-1.199747</td>\n",
       "      <td>2.735830</td>\n",
       "      <td>1.655346</td>\n",
       "      <td>-1.346731</td>\n",
       "      <td>2.429695</td>\n",
       "      <td>-0.019298</td>\n",
       "      <td>-1.131430</td>\n",
       "      <td>0.949620</td>\n",
       "      <td>0.139899</td>\n",
       "      <td>1.174063</td>\n",
       "      <td>0</td>\n",
       "    </tr>\n",
       "    <tr>\n",
       "      <th>4</th>\n",
       "      <td>2.061899</td>\n",
       "      <td>-0.651116</td>\n",
       "      <td>-0.748604</td>\n",
       "      <td>-0.511390</td>\n",
       "      <td>0.246547</td>\n",
       "      <td>-0.061211</td>\n",
       "      <td>-0.891430</td>\n",
       "      <td>-0.900838</td>\n",
       "      <td>-1.892781</td>\n",
       "      <td>0.050509</td>\n",
       "      <td>1</td>\n",
       "    </tr>\n",
       "    <tr>\n",
       "      <th>...</th>\n",
       "      <td>...</td>\n",
       "      <td>...</td>\n",
       "      <td>...</td>\n",
       "      <td>...</td>\n",
       "      <td>...</td>\n",
       "      <td>...</td>\n",
       "      <td>...</td>\n",
       "      <td>...</td>\n",
       "      <td>...</td>\n",
       "      <td>...</td>\n",
       "      <td>...</td>\n",
       "    </tr>\n",
       "    <tr>\n",
       "      <th>155</th>\n",
       "      <td>0.442926</td>\n",
       "      <td>-1.761050</td>\n",
       "      <td>-0.943685</td>\n",
       "      <td>0.939299</td>\n",
       "      <td>0.315431</td>\n",
       "      <td>1.388474</td>\n",
       "      <td>0.123846</td>\n",
       "      <td>-2.171237</td>\n",
       "      <td>0.774325</td>\n",
       "      <td>-1.572330</td>\n",
       "      <td>2</td>\n",
       "    </tr>\n",
       "    <tr>\n",
       "      <th>156</th>\n",
       "      <td>-0.075177</td>\n",
       "      <td>2.649211</td>\n",
       "      <td>1.633171</td>\n",
       "      <td>-0.042743</td>\n",
       "      <td>1.909642</td>\n",
       "      <td>0.499166</td>\n",
       "      <td>-0.823715</td>\n",
       "      <td>1.132741</td>\n",
       "      <td>0.860162</td>\n",
       "      <td>1.229976</td>\n",
       "      <td>0</td>\n",
       "    </tr>\n",
       "    <tr>\n",
       "      <th>157</th>\n",
       "      <td>-0.617505</td>\n",
       "      <td>-0.066476</td>\n",
       "      <td>0.410898</td>\n",
       "      <td>0.875093</td>\n",
       "      <td>-1.701618</td>\n",
       "      <td>-0.346702</td>\n",
       "      <td>1.779230</td>\n",
       "      <td>0.711366</td>\n",
       "      <td>-0.687565</td>\n",
       "      <td>-0.255288</td>\n",
       "      <td>2</td>\n",
       "    </tr>\n",
       "    <tr>\n",
       "      <th>158</th>\n",
       "      <td>0.429767</td>\n",
       "      <td>2.287592</td>\n",
       "      <td>0.931187</td>\n",
       "      <td>-0.653127</td>\n",
       "      <td>3.099837</td>\n",
       "      <td>1.189917</td>\n",
       "      <td>-2.435372</td>\n",
       "      <td>0.624507</td>\n",
       "      <td>-0.682962</td>\n",
       "      <td>1.398291</td>\n",
       "      <td>0</td>\n",
       "    </tr>\n",
       "    <tr>\n",
       "      <th>159</th>\n",
       "      <td>-0.835814</td>\n",
       "      <td>2.023089</td>\n",
       "      <td>2.127128</td>\n",
       "      <td>-1.294531</td>\n",
       "      <td>-0.138635</td>\n",
       "      <td>1.114161</td>\n",
       "      <td>2.042401</td>\n",
       "      <td>-1.032242</td>\n",
       "      <td>0.244781</td>\n",
       "      <td>-0.025538</td>\n",
       "      <td>3</td>\n",
       "    </tr>\n",
       "  </tbody>\n",
       "</table>\n",
       "<p>160 rows × 11 columns</p>\n",
       "</div>"
      ],
      "text/plain": [
       "     feature_0  feature_1  feature_2  feature_3  feature_4  feature_5  \\\n",
       "0     0.589173  -1.770896  -1.214621   0.397394   1.042208  -0.045084   \n",
       "1     0.119697   2.035277   1.595192  -0.465020   0.636339  -0.505013   \n",
       "2     0.329686  -2.581175  -1.545053  -0.655998  -1.692722   0.369297   \n",
       "3    -1.199747   2.735830   1.655346  -1.346731   2.429695  -0.019298   \n",
       "4     2.061899  -0.651116  -0.748604  -0.511390   0.246547  -0.061211   \n",
       "..         ...        ...        ...        ...        ...        ...   \n",
       "155   0.442926  -1.761050  -0.943685   0.939299   0.315431   1.388474   \n",
       "156  -0.075177   2.649211   1.633171  -0.042743   1.909642   0.499166   \n",
       "157  -0.617505  -0.066476   0.410898   0.875093  -1.701618  -0.346702   \n",
       "158   0.429767   2.287592   0.931187  -0.653127   3.099837   1.189917   \n",
       "159  -0.835814   2.023089   2.127128  -1.294531  -0.138635   1.114161   \n",
       "\n",
       "     feature_6  feature_7  feature_8  feature_9  target  \n",
       "0    -0.794652   1.038973  -0.218012  -1.368808       1  \n",
       "1     0.499611   0.497313   0.386101   0.640797       0  \n",
       "2     0.825998   0.691713   0.012872  -1.330849       2  \n",
       "3    -1.131430   0.949620   0.139899   1.174063       0  \n",
       "4    -0.891430  -0.900838  -1.892781   0.050509       1  \n",
       "..         ...        ...        ...        ...     ...  \n",
       "155   0.123846  -2.171237   0.774325  -1.572330       2  \n",
       "156  -0.823715   1.132741   0.860162   1.229976       0  \n",
       "157   1.779230   0.711366  -0.687565  -0.255288       2  \n",
       "158  -2.435372   0.624507  -0.682962   1.398291       0  \n",
       "159   2.042401  -1.032242   0.244781  -0.025538       3  \n",
       "\n",
       "[160 rows x 11 columns]"
      ]
     },
     "execution_count": 13,
     "metadata": {},
     "output_type": "execute_result"
    }
   ],
   "source": [
    "train"
   ]
  },
  {
   "cell_type": "code",
   "execution_count": 14,
   "metadata": {},
   "outputs": [],
   "source": [
    "train.to_csv('train.csv')\n",
    "test.to_csv('test.csv')"
   ]
  },
  {
   "cell_type": "code",
   "execution_count": null,
   "metadata": {},
   "outputs": [],
   "source": []
  },
  {
   "cell_type": "code",
   "execution_count": null,
   "metadata": {},
   "outputs": [],
   "source": []
  }
 ],
 "metadata": {
  "kernelspec": {
   "display_name": "Python 3",
   "language": "python",
   "name": "python3"
  },
  "language_info": {
   "codemirror_mode": {
    "name": "ipython",
    "version": 3
   },
   "file_extension": ".py",
   "mimetype": "text/x-python",
   "name": "python",
   "nbconvert_exporter": "python",
   "pygments_lexer": "ipython3",
   "version": "3.6.8"
  }
 },
 "nbformat": 4,
 "nbformat_minor": 4
}
